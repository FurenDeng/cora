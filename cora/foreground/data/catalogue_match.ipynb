{
 "metadata": {
  "name": ""
 },
 "nbformat": 3,
 "nbformat_minor": 0,
 "worksheets": [
  {
   "cells": [
    {
     "cell_type": "code",
     "collapsed": false,
     "input": [
      "%pylab inline"
     ],
     "language": "python",
     "metadata": {},
     "outputs": [
      {
       "output_type": "stream",
       "stream": "stdout",
       "text": [
        "Populating the interactive namespace from numpy and matplotlib\n"
       ]
      },
      {
       "output_type": "stream",
       "stream": "stderr",
       "text": [
        "WARNING: pylab import has clobbered these variables: ['f', 'beta']\n",
        "`%pylab --no-import-all` prevents importing * from pylab and numpy\n"
       ]
      }
     ],
     "prompt_number": 328
    },
    {
     "cell_type": "code",
     "collapsed": false,
     "input": [
      "import pandas as pd\n",
      "import numpy as np\n",
      "import networkx as nx"
     ],
     "language": "python",
     "metadata": {},
     "outputs": [],
     "prompt_number": 329
    },
    {
     "cell_type": "code",
     "collapsed": false,
     "input": [
      "nvss_tab = pd.read_table(\"nvss.dat\", sep=\"|\", comment=\"#\", header=56, skiprows=[57,58,2265,2267], skipinitialspace=True)\n",
      "vlss_tab = pd.read_table(\"vlss.dat\", sep=\"|\", comment=\"#\", header=48, skiprows=[49,50,1342,1343], skipinitialspace=True)"
     ],
     "language": "python",
     "metadata": {},
     "outputs": [],
     "prompt_number": 330
    },
    {
     "cell_type": "code",
     "collapsed": false,
     "input": [
      "def merge_sources(cat1, cat2, sep):\n",
      "    \n",
      "    cat1 = np.array(cat1)\n",
      "    cat2 = np.array(cat2)\n",
      "    \n",
      "    # Get x, y separations\n",
      "    dx = cat1[:, 0, np.newaxis] - cat2[np.newaxis, :, 0]\n",
      "    dy = cat1[:, 1, np.newaxis] - cat2[np.newaxis, :, 1]\n",
      "    \n",
      "    # Unwrap x separation\n",
      "    dx = np.where(dx < 180.0, dx, dx - 360.0)\n",
      "    \n",
      "    # Convert to radians\n",
      "    dxr = np.radians(dx)\n",
      "    dyr = np.radians(dy)\n",
      "\n",
      "    # Find separation\n",
      "    dd = (dxr**2 * np.cos(dyr) + dyr**2)**0.5\n",
      "    \n",
      "    # Return merge mask\n",
      "    return (dd < np.radians(sep))"
     ],
     "language": "python",
     "metadata": {},
     "outputs": [],
     "prompt_number": 331
    },
    {
     "cell_type": "markdown",
     "metadata": {},
     "source": [
      "## Merge Close Sources"
     ]
    },
    {
     "cell_type": "code",
     "collapsed": false,
     "input": [
      "nvss_pos = nvss_tab.iloc[:, :2]\n",
      "vlss_pos = vlss_tab.iloc[:, :2]"
     ],
     "language": "python",
     "metadata": {},
     "outputs": [],
     "prompt_number": 332
    },
    {
     "cell_type": "code",
     "collapsed": false,
     "input": [
      "nvss_merge = merge_sources(nvss_pos, nvss_pos, 0.2)\n",
      "vlss_merge = merge_sources(vlss_pos, vlss_pos, 0.2)"
     ],
     "language": "python",
     "metadata": {},
     "outputs": [],
     "prompt_number": 333
    },
    {
     "cell_type": "code",
     "collapsed": false,
     "input": [
      "nvss_groups = nx.connected_components(nx.Graph(nvss_merge))\n",
      "vlss_groups = nx.connected_components(nx.Graph(vlss_merge))"
     ],
     "language": "python",
     "metadata": {},
     "outputs": [],
     "prompt_number": 334
    },
    {
     "cell_type": "code",
     "collapsed": false,
     "input": [
      "indarr_nvss = -1*np.ones(nvss_tab.shape[0], dtype=np.int)\n",
      "\n",
      "for c_ind, c_list in enumerate(nvss_groups):\n",
      "    for n_ind in c_list:\n",
      "        indarr_nvss[n_ind] = c_ind\n",
      "        \n",
      "indarr_vlss = -1*np.ones(vlss_tab.shape[0], dtype=np.int)\n",
      "\n",
      "for c_ind, c_list in enumerate(vlss_groups):\n",
      "    for n_ind in c_list:\n",
      "        indarr_vlss[n_ind] = c_ind"
     ],
     "language": "python",
     "metadata": {},
     "outputs": [],
     "prompt_number": 335
    },
    {
     "cell_type": "code",
     "collapsed": false,
     "input": [
      "def select_nvss(group):\n",
      "    # Base off group max\n",
      "    groupmax = group.ix[group['S1.4'].idxmax()]\n",
      "    \n",
      "    # Sum fluxes\n",
      "    groupmax['S1.4'] = group['S1.4'].sum()\n",
      "    groupmax['polFlux'] = group['polFlux'].sum()\n",
      "    \n",
      "    # Combine errors in quadrature\n",
      "    groupmax['e_S1.4'] = (group['e_S1.4']**2).sum()**0.5\n",
      "    groupmax['e_polFlux'] = (group['e_polFlux']**2).sum()**0.5\n",
      "    \n",
      "    return groupmax\n",
      "\n",
      "def select_vlss(group):\n",
      "    # Base off group max\n",
      "    groupmax = group.ix[group['Si'].idxmax()]\n",
      "    \n",
      "    # Sum fluxes\n",
      "    groupmax['Si'] = group['Si'].sum()\n",
      "    \n",
      "    # Combine errors in quadrature\n",
      "    groupmax['e_Si'] = (group['e_Si']**2).sum()**0.5\n",
      "    \n",
      "    return groupmax\n",
      "    "
     ],
     "language": "python",
     "metadata": {},
     "outputs": [],
     "prompt_number": 336
    },
    {
     "cell_type": "code",
     "collapsed": false,
     "input": [
      "nvss_grouped = nvss_tab.copy().groupby(indarr_nvss, axis=0)\n",
      "vlss_grouped = vlss_tab.copy().groupby(indarr_vlss, axis=0)"
     ],
     "language": "python",
     "metadata": {},
     "outputs": [],
     "prompt_number": 337
    },
    {
     "cell_type": "code",
     "collapsed": false,
     "input": [
      "nvss_tab2 = nvss_grouped.apply(select_nvss)\n",
      "vlss_tab2 = vlss_grouped.apply(select_vlss)"
     ],
     "language": "python",
     "metadata": {},
     "outputs": [],
     "prompt_number": 338
    },
    {
     "cell_type": "markdown",
     "metadata": {},
     "source": [
      "## Merge Catalogs"
     ]
    },
    {
     "cell_type": "code",
     "collapsed": false,
     "input": [
      "nvss_pos = nvss_tab2.iloc[:, :2]\n",
      "vlss_pos = vlss_tab2.iloc[:, :2]"
     ],
     "language": "python",
     "metadata": {},
     "outputs": [],
     "prompt_number": 339
    },
    {
     "cell_type": "code",
     "collapsed": false,
     "input": [
      "merge_ind = merge_sources(nvss_pos, vlss_pos, 0.1)"
     ],
     "language": "python",
     "metadata": {},
     "outputs": [],
     "prompt_number": 340
    },
    {
     "cell_type": "code",
     "collapsed": false,
     "input": [
      "nvss_map, vlss_map = np.where(merge_ind)"
     ],
     "language": "python",
     "metadata": {},
     "outputs": [],
     "prompt_number": 341
    },
    {
     "cell_type": "code",
     "collapsed": false,
     "input": [
      "nvss_mtab = nvss_tab2.copy().take(nvss_map).reset_index(drop=True)\n",
      "vlss_mtab = vlss_tab2.copy().take(vlss_map).reset_index(drop=True)"
     ],
     "language": "python",
     "metadata": {},
     "outputs": [],
     "prompt_number": 342
    },
    {
     "cell_type": "markdown",
     "metadata": {},
     "source": [
      "Clean-up columns before merging"
     ]
    },
    {
     "cell_type": "code",
     "collapsed": false,
     "input": [
      "del nvss_mtab[\"RAJ2000\"]\n",
      "del nvss_mtab[\"DEJ2000\"]\n",
      "del nvss_mtab[\"e_RAJ2000\"]\n",
      "del nvss_mtab[\"e_DEJ2000\"]\n",
      "\n",
      "nvss_mtab.rename(columns={'NVSS' : 'NAME', '_RAJ2000' : 'RA', '_DEJ2000' : 'DEC', 'S1.4' : 'S1400', 'e_S1.4' : 'e_S1400', 'polFlux' : 'P1400', 'e_polFlux' : 'e_P1400', 'polPA' : 'POLANG', 'e_polPA' : 'e_POLANG'}, inplace=True)"
     ],
     "language": "python",
     "metadata": {},
     "outputs": [],
     "prompt_number": 343
    },
    {
     "cell_type": "code",
     "collapsed": false,
     "input": [
      "del vlss_mtab[\"_RAJ2000\"]\n",
      "del vlss_mtab[\"_DEJ2000\"]\n",
      "del vlss_mtab[\"VLSS\"]\n",
      "del vlss_mtab[\"RAJ2000\"]\n",
      "del vlss_mtab[\"DEJ2000\"]\n",
      "del vlss_mtab[\"e_RAJ2000\"]\n",
      "del vlss_mtab[\"e_DEJ2000\"]\n",
      "\n",
      "vlss_mtab.rename(columns={'Si' : 'S74', 'e_Si' : 'e_S74'}, inplace=True)"
     ],
     "language": "python",
     "metadata": {},
     "outputs": [],
     "prompt_number": 344
    },
    {
     "cell_type": "markdown",
     "metadata": {},
     "source": [
      "Merge tables"
     ]
    },
    {
     "cell_type": "code",
     "collapsed": false,
     "input": [
      "merged_table = nvss_mtab.join(vlss_mtab)"
     ],
     "language": "python",
     "metadata": {},
     "outputs": [],
     "prompt_number": 345
    },
    {
     "cell_type": "code",
     "collapsed": false,
     "input": [
      "merged_pos = merged_table.iloc[:, :2]"
     ],
     "language": "python",
     "metadata": {},
     "outputs": [],
     "prompt_number": 346
    },
    {
     "cell_type": "code",
     "collapsed": false,
     "input": [
      "plot(nvss_pos['_RAJ2000'], nvss_pos['_DEJ2000'], 'rD')\n",
      "plot(vlss_pos['_RAJ2000'], vlss_pos['_DEJ2000'], 'b+')\n",
      "plot(merged_pos['RA'], merged_pos['DEC'], 'gx')\n",
      "xlim(0, 50)\n",
      "ylim(0, 20)"
     ],
     "language": "python",
     "metadata": {},
     "outputs": [
      {
       "metadata": {},
       "output_type": "pyout",
       "prompt_number": 347,
       "text": [
        "(0, 20)"
       ]
      },
      {
       "metadata": {},
       "output_type": "display_data",
       "png": "[encoded data removed]",
       "text": [
        "<matplotlib.figure.Figure at 0x116500f50>"
       ]
      }
     ],
     "prompt_number": 347
    },
    {
     "cell_type": "markdown",
     "metadata": {},
     "source": [
      "Change units into Janskys"
     ]
    },
    {
     "cell_type": "code",
     "collapsed": false,
     "input": [
      "merged_table['S1400'] = merged_table['S1400'] / 1000.0\n",
      "merged_table['e_S1400'] = merged_table['e_S1400'] / 1000.0\n",
      "merged_table['P1400'] = merged_table['P1400'] / 1000.0\n",
      "merged_table['e_P1400'] = merged_table['e_P1400'] / 1000.0"
     ],
     "language": "python",
     "metadata": {},
     "outputs": [],
     "prompt_number": 348
    },
    {
     "cell_type": "markdown",
     "metadata": {},
     "source": [
      "## Give Useful Names"
     ]
    },
    {
     "cell_type": "code",
     "collapsed": false,
     "input": [
      "cat3c = pd.read_table(\"3c_modern.dat\", sep=\"|\", comment=\"#\", skipinitialspace=True, header=None, names=['ID', '3CNAME', 'NAME', 'TYPE', 'RA', 'DEC'], skiprows=6)"
     ],
     "language": "python",
     "metadata": {},
     "outputs": [],
     "prompt_number": 349
    },
    {
     "cell_type": "code",
     "collapsed": false,
     "input": [
      "pos3c = cat3c.iloc[:, -2:]"
     ],
     "language": "python",
     "metadata": {},
     "outputs": [],
     "prompt_number": 350
    },
    {
     "cell_type": "code",
     "collapsed": false,
     "input": [
      "merge_3c = merge_sources(merged_pos, pos3c, 0.5)"
     ],
     "language": "python",
     "metadata": {},
     "outputs": [],
     "prompt_number": 351
    },
    {
     "cell_type": "code",
     "collapsed": false,
     "input": [
      "p1, p2 = np.where(merge_3c)"
     ],
     "language": "python",
     "metadata": {},
     "outputs": [],
     "prompt_number": 352
    },
    {
     "cell_type": "code",
     "collapsed": false,
     "input": [
      "merged_table2 = merged_table.copy()\n",
      "merged_table2['3CNAME'] = 'NONE'"
     ],
     "language": "python",
     "metadata": {},
     "outputs": [],
     "prompt_number": 353
    },
    {
     "cell_type": "markdown",
     "metadata": {},
     "source": [
      "Replace NVSS names with more useful resolved names if we can."
     ]
    },
    {
     "cell_type": "code",
     "collapsed": false,
     "input": [
      "for mi, ci in zip(p1, p2):\n",
      "    merged_table2['NAME'][mi] = cat3c['NAME'][ci]\n",
      "    merged_table2['3CNAME'][mi] = cat3c['3CNAME'][ci]"
     ],
     "language": "python",
     "metadata": {},
     "outputs": [],
     "prompt_number": 354
    },
    {
     "cell_type": "code",
     "collapsed": false,
     "input": [
      "merged_table2.sort([\"S1400\"], ascending=False).to_csv(\"combined.dat\", sep=\"|\", index=False)"
     ],
     "language": "python",
     "metadata": {},
     "outputs": [],
     "prompt_number": 355
    },
    {
     "cell_type": "code",
     "collapsed": false,
     "input": [
      "merged_sort = merged_table2.sort([\"S1400\"], ascending=False).copy()"
     ],
     "language": "python",
     "metadata": {},
     "outputs": [],
     "prompt_number": 356
    },
    {
     "cell_type": "code",
     "collapsed": false,
     "input": [
      "merged_sort['NAME'] = merged_sort['NAME'].str.strip().str.replace(\" \", \"_\")\n",
      "merged_sort['3CNAME'] = merged_sort['3CNAME'].str.strip().str.replace(\" \", \"_\")"
     ],
     "language": "python",
     "metadata": {},
     "outputs": [],
     "prompt_number": 357
    },
    {
     "cell_type": "markdown",
     "metadata": {},
     "source": [
      "## Add Derived Spectral Information"
     ]
    },
    {
     "cell_type": "markdown",
     "metadata": {},
     "source": [
      "Calculate spectral index"
     ]
    },
    {
     "cell_type": "code",
     "collapsed": false,
     "input": [
      "beta = np.log(merged_sort['S74'] / merged_sort['S1400']) / np.log(74.0 / 1400.0)\n",
      "s600 = merged_sort['S74'] * (600.0 / 74.0)**beta\n",
      "p600 = merged_sort['P1400'] * (600.0 / 74.0)**beta"
     ],
     "language": "python",
     "metadata": {},
     "outputs": [],
     "prompt_number": 358
    },
    {
     "cell_type": "markdown",
     "metadata": {},
     "source": [
      "Add into table"
     ]
    },
    {
     "cell_type": "code",
     "collapsed": false,
     "input": [
      "final_table = merged_sort.copy()\n",
      "final_table['S600'] = s600\n",
      "final_table['P600'] = p600\n",
      "final_table['BETA'] = beta\n",
      "final_table['GAMMA'] = 0.0\n",
      "final_table = final_table.sort([\"S600\"], ascending=False).copy()"
     ],
     "language": "python",
     "metadata": {},
     "outputs": [],
     "prompt_number": 359
    },
    {
     "cell_type": "code",
     "collapsed": false,
     "input": [
      "final_table[:10]"
     ],
     "language": "python",
     "metadata": {},
     "outputs": [
      {
       "html": [
        "<div style=\"max-height:1000px;max-width:1500px;overflow:auto;\">\n",
        "<table border=\"1\" class=\"dataframe\">\n",
        "  <thead>\n",
        "    <tr style=\"text-align: right;\">\n",
        "      <th></th>\n",
        "      <th>RA</th>\n",
        "      <th>DEC</th>\n",
        "      <th>NAME</th>\n",
        "      <th>S1400</th>\n",
        "      <th>e_S1400</th>\n",
        "      <th>P1400</th>\n",
        "      <th>POLANG</th>\n",
        "      <th>e_P1400</th>\n",
        "      <th>e_POLANG</th>\n",
        "      <th>S74</th>\n",
        "      <th>e_S74</th>\n",
        "      <th>3CNAME</th>\n",
        "      <th>S600</th>\n",
        "      <th>P600</th>\n",
        "      <th>BETA</th>\n",
        "      <th>GAMMA</th>\n",
        "    </tr>\n",
        "  </thead>\n",
        "  <tbody>\n",
        "    <tr>\n",
        "      <th>0  </th>\n",
        "      <td> 350.85658</td>\n",
        "      <td> 58.83928</td>\n",
        "      <td> CASSIOPEIA_A</td>\n",
        "      <td> 1767.8760</td>\n",
        "      <td> 26.410249</td>\n",
        "      <td> 5.62293</td>\n",
        "      <td>-75.6</td>\n",
        "      <td> 0.098041</td>\n",
        "      <td> 0.0</td>\n",
        "      <td> 18842.05</td>\n",
        "      <td> 1334.050712</td>\n",
        "      <td> 3C_461.0</td>\n",
        "      <td> 3496.296206</td>\n",
        "      <td> 1.043381</td>\n",
        "      <td>-0.804824</td>\n",
        "      <td> 0</td>\n",
        "    </tr>\n",
        "    <tr>\n",
        "      <th>2  </th>\n",
        "      <td> 299.88362</td>\n",
        "      <td> 40.72997</td>\n",
        "      <td>     CYGNUS_A</td>\n",
        "      <td> 1605.7735</td>\n",
        "      <td> 40.671599</td>\n",
        "      <td> 2.41593</td>\n",
        "      <td> 50.2</td>\n",
        "      <td> 0.106708</td>\n",
        "      <td> 0.0</td>\n",
        "      <td> 16611.68</td>\n",
        "      <td> 1667.590000</td>\n",
        "      <td>   3C_405</td>\n",
        "      <td> 3148.542843</td>\n",
        "      <td> 0.457910</td>\n",
        "      <td>-0.794684</td>\n",
        "      <td> 0</td>\n",
        "    </tr>\n",
        "    <tr>\n",
        "      <th>1  </th>\n",
        "      <td>  83.61679</td>\n",
        "      <td> 22.03403</td>\n",
        "      <td>          M_1</td>\n",
        "      <td>  887.8423</td>\n",
        "      <td> 13.943689</td>\n",
        "      <td> 4.91882</td>\n",
        "      <td> 71.1</td>\n",
        "      <td> 0.111831</td>\n",
        "      <td> 0.0</td>\n",
        "      <td>  1888.55</td>\n",
        "      <td>  188.540000</td>\n",
        "      <td>   3C_144</td>\n",
        "      <td> 1103.568578</td>\n",
        "      <td> 2.874298</td>\n",
        "      <td>-0.256710</td>\n",
        "      <td> 0</td>\n",
        "    </tr>\n",
        "    <tr>\n",
        "      <th>4  </th>\n",
        "      <td> 187.70608</td>\n",
        "      <td> 12.38933</td>\n",
        "      <td>         M_87</td>\n",
        "      <td>  147.0479</td>\n",
        "      <td>  4.860562</td>\n",
        "      <td> 1.81558</td>\n",
        "      <td> -0.6</td>\n",
        "      <td> 0.025236</td>\n",
        "      <td> 0.0</td>\n",
        "      <td>  1567.37</td>\n",
        "      <td>   89.051934</td>\n",
        "      <td> 3C_274.0</td>\n",
        "      <td>  290.820972</td>\n",
        "      <td> 0.336876</td>\n",
        "      <td>-0.804852</td>\n",
        "      <td> 0</td>\n",
        "    </tr>\n",
        "    <tr>\n",
        "      <th>7  </th>\n",
        "      <td> 252.79875</td>\n",
        "      <td>  4.98861</td>\n",
        "      <td>        HER_A</td>\n",
        "      <td>   46.6135</td>\n",
        "      <td>  0.908627</td>\n",
        "      <td> 1.14107</td>\n",
        "      <td> 43.6</td>\n",
        "      <td> 0.002504</td>\n",
        "      <td> 0.0</td>\n",
        "      <td>  1076.32</td>\n",
        "      <td>   75.063179</td>\n",
        "      <td>   3C_348</td>\n",
        "      <td>  115.192908</td>\n",
        "      <td> 0.122123</td>\n",
        "      <td>-1.067769</td>\n",
        "      <td> 0</td>\n",
        "    </tr>\n",
        "    <tr>\n",
        "      <th>24 </th>\n",
        "      <td> 260.14362</td>\n",
        "      <td> -0.97900</td>\n",
        "      <td>       3C_353</td>\n",
        "      <td>   55.5160</td>\n",
        "      <td>  1.179413</td>\n",
        "      <td> 1.82420</td>\n",
        "      <td>-49.2</td>\n",
        "      <td> 0.008856</td>\n",
        "      <td> 0.0</td>\n",
        "      <td>   455.26</td>\n",
        "      <td>   45.600000</td>\n",
        "      <td> 3C_353.0</td>\n",
        "      <td>  101.805100</td>\n",
        "      <td> 0.407927</td>\n",
        "      <td>-0.715674</td>\n",
        "      <td> 0</td>\n",
        "    </tr>\n",
        "    <tr>\n",
        "      <th>773</th>\n",
        "      <td>  69.26904</td>\n",
        "      <td> 29.67061</td>\n",
        "      <td>        PER_B</td>\n",
        "      <td>   49.7285</td>\n",
        "      <td>  1.684100</td>\n",
        "      <td> 0.07699</td>\n",
        "      <td>-80.5</td>\n",
        "      <td> 0.000660</td>\n",
        "      <td> 0.1</td>\n",
        "      <td>   454.97</td>\n",
        "      <td>   46.760000</td>\n",
        "      <td>   3C_123</td>\n",
        "      <td>   94.114319</td>\n",
        "      <td> 0.015926</td>\n",
        "      <td>-0.752902</td>\n",
        "      <td> 0</td>\n",
        "    </tr>\n",
        "    <tr>\n",
        "      <th>772</th>\n",
        "      <td> 139.52408</td>\n",
        "      <td>-12.09481</td>\n",
        "      <td>      HYDRA_A</td>\n",
        "      <td>   40.8499</td>\n",
        "      <td>  1.278800</td>\n",
        "      <td> 0.01643</td>\n",
        "      <td>  8.1</td>\n",
        "      <td> 0.001340</td>\n",
        "      <td> 0.9</td>\n",
        "      <td>   579.59</td>\n",
        "      <td>   58.050000</td>\n",
        "      <td>   3C_218</td>\n",
        "      <td>   87.731363</td>\n",
        "      <td> 0.002487</td>\n",
        "      <td>-0.902133</td>\n",
        "      <td> 0</td>\n",
        "    </tr>\n",
        "    <tr>\n",
        "      <th>774</th>\n",
        "      <td> 187.27671</td>\n",
        "      <td>  2.05142</td>\n",
        "      <td>      3C_273C</td>\n",
        "      <td>   54.9912</td>\n",
        "      <td>  1.900300</td>\n",
        "      <td> 0.57594</td>\n",
        "      <td>-33.3</td>\n",
        "      <td> 0.000560</td>\n",
        "      <td> 0.0</td>\n",
        "      <td>   149.96</td>\n",
        "      <td>   15.000000</td>\n",
        "      <td>  3C_273C</td>\n",
        "      <td>   73.425748</td>\n",
        "      <td> 0.282001</td>\n",
        "      <td>-0.341204</td>\n",
        "      <td> 0</td>\n",
        "    </tr>\n",
        "    <tr>\n",
        "      <th>3  </th>\n",
        "      <td>   6.40142</td>\n",
        "      <td> 64.17856</td>\n",
        "      <td>       3C_10C</td>\n",
        "      <td>   25.9311</td>\n",
        "      <td>  0.317754</td>\n",
        "      <td> 0.20349</td>\n",
        "      <td> 68.7</td>\n",
        "      <td> 0.075088</td>\n",
        "      <td> 1.8</td>\n",
        "      <td>   317.66</td>\n",
        "      <td>   16.236792</td>\n",
        "      <td>  3C__10C</td>\n",
        "      <td>   53.382913</td>\n",
        "      <td> 0.034197</td>\n",
        "      <td>-0.852177</td>\n",
        "      <td> 0</td>\n",
        "    </tr>\n",
        "  </tbody>\n",
        "</table>\n",
        "</div>"
       ],
       "metadata": {},
       "output_type": "pyout",
       "prompt_number": 360,
       "text": [
        "            RA       DEC          NAME      S1400    e_S1400    P1400  POLANG  \\\n",
        "0    350.85658  58.83928  CASSIOPEIA_A  1767.8760  26.410249  5.62293   -75.6   \n",
        "2    299.88362  40.72997      CYGNUS_A  1605.7735  40.671599  2.41593    50.2   \n",
        "1     83.61679  22.03403           M_1   887.8423  13.943689  4.91882    71.1   \n",
        "4    187.70608  12.38933          M_87   147.0479   4.860562  1.81558    -0.6   \n",
        "7    252.79875   4.98861         HER_A    46.6135   0.908627  1.14107    43.6   \n",
        "24   260.14362  -0.97900        3C_353    55.5160   1.179413  1.82420   -49.2   \n",
        "773   69.26904  29.67061         PER_B    49.7285   1.684100  0.07699   -80.5   \n",
        "772  139.52408 -12.09481       HYDRA_A    40.8499   1.278800  0.01643     8.1   \n",
        "774  187.27671   2.05142       3C_273C    54.9912   1.900300  0.57594   -33.3   \n",
        "3      6.40142  64.17856        3C_10C    25.9311   0.317754  0.20349    68.7   \n",
        "\n",
        "      e_P1400  e_POLANG       S74        e_S74    3CNAME         S600  \\\n",
        "0    0.098041       0.0  18842.05  1334.050712  3C_461.0  3496.296206   \n",
        "2    0.106708       0.0  16611.68  1667.590000    3C_405  3148.542843   \n",
        "1    0.111831       0.0   1888.55   188.540000    3C_144  1103.568578   \n",
        "4    0.025236       0.0   1567.37    89.051934  3C_274.0   290.820972   \n",
        "7    0.002504       0.0   1076.32    75.063179    3C_348   115.192908   \n",
        "24   0.008856       0.0    455.26    45.600000  3C_353.0   101.805100   \n",
        "773  0.000660       0.1    454.97    46.760000    3C_123    94.114319   \n",
        "772  0.001340       0.9    579.59    58.050000    3C_218    87.731363   \n",
        "774  0.000560       0.0    149.96    15.000000   3C_273C    73.425748   \n",
        "3    0.075088       1.8    317.66    16.236792   3C__10C    53.382913   \n",
        "\n",
        "         P600      BETA  GAMMA  \n",
        "0    1.043381 -0.804824      0  \n",
        "2    0.457910 -0.794684      0  \n",
        "1    2.874298 -0.256710      0  \n",
        "4    0.336876 -0.804852      0  \n",
        "7    0.122123 -1.067769      0  \n",
        "24   0.407927 -0.715674      0  \n",
        "773  0.015926 -0.752902      0  \n",
        "772  0.002487 -0.902133      0  \n",
        "774  0.282001 -0.341204      0  \n",
        "3    0.034197 -0.852177      0  "
       ]
      }
     ],
     "prompt_number": 360
    },
    {
     "cell_type": "markdown",
     "metadata": {},
     "source": [
      "# Better fits to the brightest sources"
     ]
    },
    {
     "cell_type": "code",
     "collapsed": false,
     "input": [
      "def fit_curved_spectrum(freq, flux, err):\n",
      "    d = np.log(flux)\n",
      "    x = np.log(freq / 600.0)\n",
      "    A = np.array([x**0.0, x, x**2]).T\n",
      "    Nh = np.diag(err**-0.5)\n",
      "    m = np.dot(np.linalg.pinv(np.dot(Nh, A)), np.dot(Nh, d))\n",
      "    \n",
      "    return np.array([np.exp(m[0]), m[1], m[2]])\n",
      "\n",
      "def fit_curved_spectrum_data(data):\n",
      "    d = np.log(data[:, 1])\n",
      "    x = np.log(data[:, 0] / 600.0)\n",
      "    A = np.array([x**0.0, x, x**2]).T\n",
      "    Nh = np.diag(data[:, 2]**-0.5)\n",
      "    m = np.dot(np.linalg.pinv(np.dot(Nh, A)), np.dot(Nh, d))\n",
      "    \n",
      "    return np.array([np.exp(m[0]), m[1], m[2]])\n",
      "    \n",
      "def model_curve(model, fa):\n",
      "    xa = np.log(fa / 600.0)\n",
      "    Sa = model[0] * np.exp(model[1] * xa + model[2]*xa**2)\n",
      "    return Sa\n",
      "\n",
      "fa = np.logspace(1, 4, 1000)"
     ],
     "language": "python",
     "metadata": {},
     "outputs": [],
     "prompt_number": 361
    },
    {
     "cell_type": "code",
     "collapsed": false,
     "input": [
      "ultimate_table = final_table.copy()"
     ],
     "language": "python",
     "metadata": {},
     "outputs": [],
     "prompt_number": 362
    },
    {
     "cell_type": "markdown",
     "metadata": {},
     "source": [
      "## Cas A"
     ]
    },
    {
     "cell_type": "code",
     "collapsed": false,
     "input": [
      "freq_casa = np.array([74.0, 152.0, 320.0, 562.0, 708.0, 860.0, 1190.0, 1440.0])\n",
      "flux_casa = np.array([17693.0, 13130.0, 7680.0, 4885.0, 4085.0, 3295.0, 2985.0, 2335.0])\n",
      "err_casa = np.array([12.2, 381.0, 384.0, 146.0, 102.0, 824.0, 119.0, 49.0])\n",
      "year_casa = np.array([2007.0, 1968.0, 1963.0, 1963.0, 1963.0, 1963.0, 1963.0, 1965.0])"
     ],
     "language": "python",
     "metadata": {},
     "outputs": [],
     "prompt_number": 363
    },
    {
     "cell_type": "code",
     "collapsed": false,
     "input": [
      "flux_casa = (1.0 - (0.0097 * (2013 - year_casa))) * flux_casa # Decrement from wikipedia"
     ],
     "language": "python",
     "metadata": {},
     "outputs": [],
     "prompt_number": 364
    },
    {
     "cell_type": "code",
     "collapsed": false,
     "input": [
      "m_casa = fit_curved_spectrum(freq_casa, flux_casa, err_casa)"
     ],
     "language": "python",
     "metadata": {},
     "outputs": [],
     "prompt_number": 365
    },
    {
     "cell_type": "code",
     "collapsed": false,
     "input": [
      "errorbar(freq_casa, flux_casa, yerr=err_casa, fmt=None)\n",
      "loglog(fa, model_curve(m_casa, fa))\n",
      "loglog(fa, final_table['S600'][0] * (fa /600.0)**final_table['BETA'][0])"
     ],
     "language": "python",
     "metadata": {},
     "outputs": [
      {
       "metadata": {},
       "output_type": "pyout",
       "prompt_number": 366,
       "text": [
        "[<matplotlib.lines.Line2D at 0x1184bc890>]"
       ]
      },
      {
       "metadata": {},
       "output_type": "display_data",
       "png": "[encoded data removed]",
       "text": [
        "<matplotlib.figure.Figure at 0x1183f0110>"
       ]
      }
     ],
     "prompt_number": 366
    },
    {
     "cell_type": "code",
     "collapsed": false,
     "input": [
      "t_ind = 0\n",
      "\n",
      "ultimate_table['S600'][t_ind] = m_casa[0]\n",
      "ultimate_table['BETA'][t_ind] = m_casa[1]\n",
      "ultimate_table['GAMMA'][t_ind] = m_casa[2]"
     ],
     "language": "python",
     "metadata": {},
     "outputs": [],
     "prompt_number": 367
    },
    {
     "cell_type": "code",
     "collapsed": false,
     "input": [],
     "language": "python",
     "metadata": {},
     "outputs": [],
     "prompt_number": 367
    },
    {
     "cell_type": "markdown",
     "metadata": {},
     "source": [
      "## Cyg A"
     ]
    },
    {
     "cell_type": "code",
     "collapsed": false,
     "input": [
      "freq_cyga = np.array([74.0, 178.0, 327.0, 750.0, 1400.0])\n",
      "flux_cyga = np.array([16611.68, 8700.0, 6015.3, 2980.0, 1598.0])\n",
      "err_cyga = np.array([1667.0, 1300.0, 600.0, 145.0, 41.0])"
     ],
     "language": "python",
     "metadata": {},
     "outputs": [],
     "prompt_number": 368
    },
    {
     "cell_type": "code",
     "collapsed": false,
     "input": [
      "m_cyga = fit_curved_spectrum(freq_cyga, flux_cyga, err_cyga)"
     ],
     "language": "python",
     "metadata": {},
     "outputs": [],
     "prompt_number": 369
    },
    {
     "cell_type": "code",
     "collapsed": false,
     "input": [
      "#loglog(freq_cyga, flux_cyga)\n",
      "errorbar(freq_cyga, flux_cyga, fmt=None, yerr=err_cyga)\n",
      "loglog(fa, model_curve(m_cyga, fa))\n",
      "loglog(fa, final_table['S600'][2] * (fa /600.0)**final_table['BETA'][2])"
     ],
     "language": "python",
     "metadata": {},
     "outputs": [
      {
       "metadata": {},
       "output_type": "pyout",
       "prompt_number": 370,
       "text": [
        "[<matplotlib.lines.Line2D at 0x112a30950>]"
       ]
      },
      {
       "metadata": {},
       "output_type": "display_data",
       "png": "[encoded data removed]",
       "text": [
        "<matplotlib.figure.Figure at 0x116582dd0>"
       ]
      }
     ],
     "prompt_number": 370
    },
    {
     "cell_type": "code",
     "collapsed": false,
     "input": [
      "t_ind = 2\n",
      "\n",
      "ultimate_table['S600'][t_ind] = m_cyga[0]\n",
      "ultimate_table['BETA'][t_ind] = m_cyga[1]\n",
      "ultimate_table['GAMMA'][t_ind] = m_cyga[2]"
     ],
     "language": "python",
     "metadata": {},
     "outputs": [],
     "prompt_number": 371
    },
    {
     "cell_type": "markdown",
     "metadata": {},
     "source": [
      "## Taurus A (M1)"
     ]
    },
    {
     "cell_type": "code",
     "collapsed": false,
     "input": [
      "freq_taua = np.array([74.0, 178.0, 1400.0, 5000.0])\n",
      "flux_taua = np.array([1888.6, 1530.0, 930.0, 680.0])\n",
      "err_taua = np.array([188.0, 122.0, 46.5, 34.0])"
     ],
     "language": "python",
     "metadata": {},
     "outputs": [],
     "prompt_number": 372
    },
    {
     "cell_type": "code",
     "collapsed": false,
     "input": [
      "m_taua = fit_curved_spectrum(freq_taua, flux_taua, err_taua)"
     ],
     "language": "python",
     "metadata": {},
     "outputs": [],
     "prompt_number": 373
    },
    {
     "cell_type": "code",
     "collapsed": false,
     "input": [
      "errorbar(freq_taua, flux_taua, yerr=err_taua, fmt=None)\n",
      "loglog(fa, model_curve(m_taua, fa))\n",
      "loglog(fa, final_table['S600'][1] * (fa /600.0)**final_table['BETA'][1])"
     ],
     "language": "python",
     "metadata": {},
     "outputs": [
      {
       "metadata": {},
       "output_type": "pyout",
       "prompt_number": 374,
       "text": [
        "[<matplotlib.lines.Line2D at 0x113964510>]"
       ]
      },
      {
       "metadata": {},
       "output_type": "display_data",
       "png": "[encoded data removed]",
       "text": [
        "<matplotlib.figure.Figure at 0x112a1f8d0>"
       ]
      }
     ],
     "prompt_number": 374
    },
    {
     "cell_type": "code",
     "collapsed": false,
     "input": [
      "t_ind = 1\n",
      "\n",
      "ultimate_table['S600'][t_ind] = m_taua[0]\n",
      "ultimate_table['BETA'][t_ind] = m_taua[1]\n",
      "ultimate_table['GAMMA'][t_ind] = m_taua[2]"
     ],
     "language": "python",
     "metadata": {},
     "outputs": [],
     "prompt_number": 375
    },
    {
     "cell_type": "markdown",
     "metadata": {},
     "source": [
      "## M87"
     ]
    },
    {
     "cell_type": "code",
     "collapsed": false,
     "input": [
      "freq_m87 = np.array([178.0, 408.0, 635.0, 750.0, 750.0, 1400.0])\n",
      "flux_m87 = np.array([1144.0, 510.0, 460.3, 337.0, 368.2, 214])\n",
      "err_m87 = np.array([114.0, 77.0, 18.7, 17.0, 18.4, 10.5])"
     ],
     "language": "python",
     "metadata": {},
     "outputs": [],
     "prompt_number": 376
    },
    {
     "cell_type": "code",
     "collapsed": false,
     "input": [
      "m_m87 = fit_curved_spectrum(freq_m87, flux_m87, err_m87)"
     ],
     "language": "python",
     "metadata": {},
     "outputs": [],
     "prompt_number": 377
    },
    {
     "cell_type": "code",
     "collapsed": false,
     "input": [
      "errorbar(freq_m87, flux_m87, yerr=err_m87, fmt=None)\n",
      "loglog(fa, model_curve(m_m87, fa))\n",
      "loglog(fa, final_table['S600'][4] * (fa /600.0)**final_table['BETA'][4])"
     ],
     "language": "python",
     "metadata": {},
     "outputs": [
      {
       "metadata": {},
       "output_type": "pyout",
       "prompt_number": 378,
       "text": [
        "[<matplotlib.lines.Line2D at 0x1135f2590>]"
       ]
      },
      {
       "metadata": {},
       "output_type": "display_data",
       "png": "[encoded data removed]",
       "text": [
        "<matplotlib.figure.Figure at 0x11369a3d0>"
       ]
      }
     ],
     "prompt_number": 378
    },
    {
     "cell_type": "code",
     "collapsed": false,
     "input": [
      "t_ind = 4\n",
      "\n",
      "ultimate_table['S600'][t_ind] = m_m87[0]\n",
      "ultimate_table['BETA'][t_ind] = m_m87[1]\n",
      "ultimate_table['GAMMA'][t_ind] = m_m87[2]"
     ],
     "language": "python",
     "metadata": {},
     "outputs": [],
     "prompt_number": 379
    },
    {
     "cell_type": "markdown",
     "metadata": {},
     "source": [
      "## Hercules A"
     ]
    },
    {
     "cell_type": "code",
     "collapsed": false,
     "input": [
      "freq_hera = np.array([38.0, 80.0, 178.0, 408.0, 580.0, 750.0, 960.0, 1400.0])\n",
      "flux_hera = np.array([1840.0, 830.0, 386.75, 141.7, 124.09, 87.6, 74.77, 45.7])\n",
      "err_hera  = np.array([82.0, 113.0, 18.4, 22.3, 1.67, 4.40, 0.44, 1.3])"
     ],
     "language": "python",
     "metadata": {},
     "outputs": [],
     "prompt_number": 380
    },
    {
     "cell_type": "code",
     "collapsed": false,
     "input": [
      "m_hera = fit_curved_spectrum(freq_hera, flux_hera, err_hera)"
     ],
     "language": "python",
     "metadata": {},
     "outputs": [],
     "prompt_number": 381
    },
    {
     "cell_type": "code",
     "collapsed": false,
     "input": [
      "#loglog(freq_hera, flux_hera)\n",
      "errorbar(freq_hera, flux_hera, yerr=err_hera, fmt=None)\n",
      "loglog(fa, model_curve(m_hera, fa))\n",
      "loglog(fa, final_table['S600'][7] * (fa /600.0)**final_table['BETA'][7])"
     ],
     "language": "python",
     "metadata": {},
     "outputs": [
      {
       "metadata": {},
       "output_type": "pyout",
       "prompt_number": 382,
       "text": [
        "[<matplotlib.lines.Line2D at 0x113a13350>]"
       ]
      },
      {
       "metadata": {},
       "output_type": "display_data",
       "png": "[encoded data removed]",
       "text": [
        "<matplotlib.figure.Figure at 0x1135e1e50>"
       ]
      }
     ],
     "prompt_number": 382
    },
    {
     "cell_type": "code",
     "collapsed": false,
     "input": [
      "t_ind = 7\n",
      "\n",
      "ultimate_table['S600'][t_ind] = m_hera[0]\n",
      "ultimate_table['BETA'][t_ind] = m_hera[1]\n",
      "ultimate_table['GAMMA'][t_ind] = m_hera[2]"
     ],
     "language": "python",
     "metadata": {},
     "outputs": [],
     "prompt_number": 383
    },
    {
     "cell_type": "markdown",
     "metadata": {},
     "source": [
      "## 3C 353"
     ]
    },
    {
     "cell_type": "code",
     "collapsed": false,
     "input": [
      "freq_3c353 = np.array([74.0, 178.0, 408.0, 580.0, 750.0, 1400.0])\n",
      "flux_3c353 = np.array([455.3, 241.6, 114.5, 114.6, 88.4, 56.5])\n",
      "err_3c353  = np.array([45.6, 12.4, 18.2, 2.6, 4.4, 2.8])"
     ],
     "language": "python",
     "metadata": {},
     "outputs": [],
     "prompt_number": 384
    },
    {
     "cell_type": "code",
     "collapsed": false,
     "input": [
      "np.vstack((freq_3c353, flux_3c353,err_3c353)).T"
     ],
     "language": "python",
     "metadata": {},
     "outputs": [
      {
       "metadata": {},
       "output_type": "pyout",
       "prompt_number": 385,
       "text": [
        "array([[   74. ,   455.3,    45.6],\n",
        "       [  178. ,   241.6,    12.4],\n",
        "       [  408. ,   114.5,    18.2],\n",
        "       [  580. ,   114.6,     2.6],\n",
        "       [  750. ,    88.4,     4.4],\n",
        "       [ 1400. ,    56.5,     2.8]])"
       ]
      }
     ],
     "prompt_number": 385
    },
    {
     "cell_type": "code",
     "collapsed": false,
     "input": [
      "data_3c353 = np.array([[   74. ,   455.3,    45.6],\n",
      "                       [  178. ,   241.6,    12.4],\n",
      "                       [  408. ,   114.5,    18.2],\n",
      "                       [  580. ,   114.6,     2.6],\n",
      "                       [  750. ,    88.4,     4.4],\n",
      "                       [ 1400. ,    56.5,     2.8]])"
     ],
     "language": "python",
     "metadata": {},
     "outputs": [],
     "prompt_number": 386
    },
    {
     "cell_type": "code",
     "collapsed": false,
     "input": [
      "m_3c353 = fit_curved_spectrum(freq_3c353, flux_3c353, err_3c353)"
     ],
     "language": "python",
     "metadata": {},
     "outputs": [],
     "prompt_number": 387
    },
    {
     "cell_type": "code",
     "collapsed": false,
     "input": [
      "#loglog(freq_3c353, flux_3c353)\n",
      "errorbar(freq_3c353, flux_3c353, yerr=err_3c353, fmt=None)\n",
      "loglog(fa, model_curve(m_3c353, fa))\n",
      "loglog(fa, final_table['S600'][24] * (fa /600.0)**final_table['BETA'][24])"
     ],
     "language": "python",
     "metadata": {},
     "outputs": [
      {
       "metadata": {},
       "output_type": "pyout",
       "prompt_number": 388,
       "text": [
        "[<matplotlib.lines.Line2D at 0x113a71310>]"
       ]
      },
      {
       "metadata": {},
       "output_type": "display_data",
       "png": "[encoded data removed]",
       "text": [
        "<matplotlib.figure.Figure at 0x117856f10>"
       ]
      }
     ],
     "prompt_number": 388
    },
    {
     "cell_type": "code",
     "collapsed": false,
     "input": [
      "t_ind = 24\n",
      "\n",
      "ultimate_table['S600'][t_ind] = m_3c353[0]\n",
      "ultimate_table['BETA'][t_ind] = m_3c353[1]\n",
      "ultimate_table['GAMMA'][t_ind] = m_3c353[2]"
     ],
     "language": "python",
     "metadata": {},
     "outputs": [],
     "prompt_number": 389
    },
    {
     "cell_type": "markdown",
     "metadata": {},
     "source": [
      "## Per B"
     ]
    },
    {
     "cell_type": "code",
     "collapsed": false,
     "input": [
      "data_perb = np.array([[ 86.0, 391.00, 9.0 ],\n",
      "                      [178.0, 208.25, 9.90],\n",
      "                      [318.0, 135.45, 5.20],\n",
      "                      [408.0, 122.53, 9.46],\n",
      "                      [750.0,  75.60, 3.80],\n",
      "                      [1400.,  47.96, 1.50]])"
     ],
     "language": "python",
     "metadata": {},
     "outputs": [],
     "prompt_number": 390
    },
    {
     "cell_type": "code",
     "collapsed": false,
     "input": [
      "m_perb = fit_curved_spectrum_data(data_perb)"
     ],
     "language": "python",
     "metadata": {},
     "outputs": [],
     "prompt_number": 391
    },
    {
     "cell_type": "code",
     "collapsed": false,
     "input": [
      "t_ind = 773; d = data_perb; m = m_perb\n",
      "\n",
      "errorbar(d[:, 0], d[:, 1], yerr=d[:, 2], fmt=None)\n",
      "loglog(fa, model_curve(m, fa))\n",
      "loglog(fa, final_table['S600'][t_ind] * (fa /600.0)**final_table['BETA'][t_ind])"
     ],
     "language": "python",
     "metadata": {},
     "outputs": [
      {
       "metadata": {},
       "output_type": "pyout",
       "prompt_number": 392,
       "text": [
        "[<matplotlib.lines.Line2D at 0x11790ba50>]"
       ]
      },
      {
       "metadata": {},
       "output_type": "display_data",
       "png": "[encoded data removed]",
       "text": [
        "<matplotlib.figure.Figure at 0x117932950>"
       ]
      }
     ],
     "prompt_number": 392
    },
    {
     "cell_type": "code",
     "collapsed": false,
     "input": [
      "ultimate_table['S600'][t_ind] = m[0]\n",
      "ultimate_table['BETA'][t_ind] = m[1]\n",
      "ultimate_table['GAMMA'][t_ind] = m[2]"
     ],
     "language": "python",
     "metadata": {},
     "outputs": [],
     "prompt_number": 393
    },
    {
     "cell_type": "markdown",
     "metadata": {},
     "source": [
      "## Hydra A"
     ]
    },
    {
     "cell_type": "code",
     "collapsed": false,
     "input": [
      "data_hydraa = np.array([[  74.0, 579.6, 58.1],\n",
      "                        [ 160.0, 245.8, 31.9],\n",
      "                        [ 468.0, 115.0,  0.6],\n",
      "                        [ 635.0,  97.1,  0.7],\n",
      "                        [ 750.0,  78.9,  0.5],\n",
      "                        [ 960.0,  65.5,  0.3],\n",
      "                        [1400.0,  45.1,  0.4]])"
     ],
     "language": "python",
     "metadata": {},
     "outputs": [],
     "prompt_number": 394
    },
    {
     "cell_type": "code",
     "collapsed": false,
     "input": [
      "m_hydraa = fit_curved_spectrum_data(data_hydraa)"
     ],
     "language": "python",
     "metadata": {},
     "outputs": [],
     "prompt_number": 395
    },
    {
     "cell_type": "code",
     "collapsed": false,
     "input": [
      "t_ind = 772; d = data_hydraa; m = m_hydraa\n",
      "\n",
      "errorbar(d[:, 0], d[:, 1], yerr=d[:, 2], fmt=None)\n",
      "loglog(fa, model_curve(m, fa))\n",
      "loglog(fa, final_table['S600'][t_ind] * (fa /600.0)**final_table['BETA'][t_ind])"
     ],
     "language": "python",
     "metadata": {},
     "outputs": [
      {
       "metadata": {},
       "output_type": "pyout",
       "prompt_number": 396,
       "text": [
        "[<matplotlib.lines.Line2D at 0x1179ed2d0>]"
       ]
      },
      {
       "metadata": {},
       "output_type": "display_data",
       "png": "[encoded data removed]",
       "text": [
        "<matplotlib.figure.Figure at 0x1179222d0>"
       ]
      }
     ],
     "prompt_number": 396
    },
    {
     "cell_type": "code",
     "collapsed": false,
     "input": [
      "ultimate_table['S600'][t_ind] = m[0]\n",
      "ultimate_table['BETA'][t_ind] = m[1]\n",
      "ultimate_table['GAMMA'][t_ind] = m[2]"
     ],
     "language": "python",
     "metadata": {},
     "outputs": [],
     "prompt_number": 397
    },
    {
     "cell_type": "markdown",
     "metadata": {},
     "source": [
      "## 3C 273\n",
      "\n",
      "Variable (I think), so only using information from the same measurement (Kueher 1981)"
     ]
    },
    {
     "cell_type": "code",
     "collapsed": false,
     "input": [
      "data_3c273 = np.array([[  80.0, 176.0, 26.0],\n",
      "                       [ 160.0,  97.3, 12.7],\n",
      "                       [ 178.0,  84.4,  8.4],\n",
      "                       [ 318.0,  64.0,  2.5],\n",
      "                       [ 468.0,  59.9,  0.5],\n",
      "                       [ 635.0,  56.5,  0.9],\n",
      "                       [ 750.0,  47.4,  2.4],\n",
      "                       [ 960.0,  49.6,  0.8],\n",
      "                       [1400.0,  45.0,  2.3]])"
     ],
     "language": "python",
     "metadata": {},
     "outputs": [],
     "prompt_number": 398
    },
    {
     "cell_type": "code",
     "collapsed": false,
     "input": [
      "m_3c273 = fit_curved_spectrum_data(data_3c273)"
     ],
     "language": "python",
     "metadata": {},
     "outputs": [],
     "prompt_number": 399
    },
    {
     "cell_type": "code",
     "collapsed": false,
     "input": [
      "t_ind = 774; d = data_3c273; m = m_3c273\n",
      "\n",
      "errorbar(d[:, 0], d[:, 1], yerr=d[:, 2], fmt=None)\n",
      "loglog(fa, model_curve(m, fa))\n",
      "loglog(fa, final_table['S600'][t_ind] * (fa /600.0)**final_table['BETA'][t_ind])"
     ],
     "language": "python",
     "metadata": {},
     "outputs": [
      {
       "metadata": {},
       "output_type": "pyout",
       "prompt_number": 400,
       "text": [
        "[<matplotlib.lines.Line2D at 0x117ad23d0>]"
       ]
      },
      {
       "metadata": {},
       "output_type": "display_data",
       "png": "[encoded data removed]",
       "text": [
        "<matplotlib.figure.Figure at 0x117b09b90>"
       ]
      }
     ],
     "prompt_number": 400
    },
    {
     "cell_type": "code",
     "collapsed": false,
     "input": [
      "ultimate_table['S600'][t_ind] = m[0]\n",
      "ultimate_table['BETA'][t_ind] = m[1]\n",
      "ultimate_table['GAMMA'][t_ind] = m[2]"
     ],
     "language": "python",
     "metadata": {},
     "outputs": [],
     "prompt_number": 401
    },
    {
     "cell_type": "markdown",
     "metadata": {},
     "source": [
      "##  3C 10"
     ]
    },
    {
     "cell_type": "code",
     "collapsed": false,
     "input": [
      "data_3c10 = np.array([[  74.0, 252.1,  1.9],\n",
      "                      [ 178.0, 145.0, 14.5],\n",
      "                      [ 750.0,  62.9,  2.0],\n",
      "                      [1400.0,  43.5,  2.0]])"
     ],
     "language": "python",
     "metadata": {},
     "outputs": [],
     "prompt_number": 402
    },
    {
     "cell_type": "code",
     "collapsed": false,
     "input": [
      "m_3c10 = fit_curved_spectrum_data(data_3c10)"
     ],
     "language": "python",
     "metadata": {},
     "outputs": [],
     "prompt_number": 403
    },
    {
     "cell_type": "code",
     "collapsed": false,
     "input": [
      "t_ind = 3; d = data_3c10; m = m_3c10\n",
      "\n",
      "errorbar(d[:, 0], d[:, 1], yerr=d[:, 2], fmt=None)\n",
      "loglog(fa, model_curve(m, fa))\n",
      "loglog(fa, final_table['S600'][t_ind] * (fa /600.0)**final_table['BETA'][t_ind])"
     ],
     "language": "python",
     "metadata": {},
     "outputs": [
      {
       "metadata": {},
       "output_type": "pyout",
       "prompt_number": 404,
       "text": [
        "[<matplotlib.lines.Line2D at 0x117b272d0>]"
       ]
      },
      {
       "metadata": {},
       "output_type": "display_data",
       "png": "[encoded data removed]",
       "text": [
        "<matplotlib.figure.Figure at 0x117ae6ad0>"
       ]
      }
     ],
     "prompt_number": 404
    },
    {
     "cell_type": "code",
     "collapsed": false,
     "input": [
      "ultimate_table['S600'][t_ind] = m[0]\n",
      "ultimate_table['BETA'][t_ind] = m[1]\n",
      "ultimate_table['GAMMA'][t_ind] = m[2]"
     ],
     "language": "python",
     "metadata": {},
     "outputs": [],
     "prompt_number": 405
    },
    {
     "cell_type": "markdown",
     "metadata": {},
     "source": [
      "# Construct Final Table"
     ]
    },
    {
     "cell_type": "code",
     "collapsed": false,
     "input": [
      "final_table[:10]"
     ],
     "language": "python",
     "metadata": {},
     "outputs": [
      {
       "html": [
        "<div style=\"max-height:1000px;max-width:1500px;overflow:auto;\">\n",
        "<table border=\"1\" class=\"dataframe\">\n",
        "  <thead>\n",
        "    <tr style=\"text-align: right;\">\n",
        "      <th></th>\n",
        "      <th>RA</th>\n",
        "      <th>DEC</th>\n",
        "      <th>NAME</th>\n",
        "      <th>S1400</th>\n",
        "      <th>e_S1400</th>\n",
        "      <th>P1400</th>\n",
        "      <th>POLANG</th>\n",
        "      <th>e_P1400</th>\n",
        "      <th>e_POLANG</th>\n",
        "      <th>S74</th>\n",
        "      <th>e_S74</th>\n",
        "      <th>3CNAME</th>\n",
        "      <th>S600</th>\n",
        "      <th>P600</th>\n",
        "      <th>BETA</th>\n",
        "      <th>GAMMA</th>\n",
        "    </tr>\n",
        "  </thead>\n",
        "  <tbody>\n",
        "    <tr>\n",
        "      <th>0  </th>\n",
        "      <td> 350.85658</td>\n",
        "      <td> 58.83928</td>\n",
        "      <td> CASSIOPEIA_A</td>\n",
        "      <td> 1767.8760</td>\n",
        "      <td> 26.410249</td>\n",
        "      <td> 5.62293</td>\n",
        "      <td>-75.6</td>\n",
        "      <td> 0.098041</td>\n",
        "      <td> 0.0</td>\n",
        "      <td> 18842.05</td>\n",
        "      <td> 1334.050712</td>\n",
        "      <td> 3C_461.0</td>\n",
        "      <td> 3496.296206</td>\n",
        "      <td> 1.043381</td>\n",
        "      <td>-0.804824</td>\n",
        "      <td> 0</td>\n",
        "    </tr>\n",
        "    <tr>\n",
        "      <th>2  </th>\n",
        "      <td> 299.88362</td>\n",
        "      <td> 40.72997</td>\n",
        "      <td>     CYGNUS_A</td>\n",
        "      <td> 1605.7735</td>\n",
        "      <td> 40.671599</td>\n",
        "      <td> 2.41593</td>\n",
        "      <td> 50.2</td>\n",
        "      <td> 0.106708</td>\n",
        "      <td> 0.0</td>\n",
        "      <td> 16611.68</td>\n",
        "      <td> 1667.590000</td>\n",
        "      <td>   3C_405</td>\n",
        "      <td> 3148.542843</td>\n",
        "      <td> 0.457910</td>\n",
        "      <td>-0.794684</td>\n",
        "      <td> 0</td>\n",
        "    </tr>\n",
        "    <tr>\n",
        "      <th>1  </th>\n",
        "      <td>  83.61679</td>\n",
        "      <td> 22.03403</td>\n",
        "      <td>          M_1</td>\n",
        "      <td>  887.8423</td>\n",
        "      <td> 13.943689</td>\n",
        "      <td> 4.91882</td>\n",
        "      <td> 71.1</td>\n",
        "      <td> 0.111831</td>\n",
        "      <td> 0.0</td>\n",
        "      <td>  1888.55</td>\n",
        "      <td>  188.540000</td>\n",
        "      <td>   3C_144</td>\n",
        "      <td> 1103.568578</td>\n",
        "      <td> 2.874298</td>\n",
        "      <td>-0.256710</td>\n",
        "      <td> 0</td>\n",
        "    </tr>\n",
        "    <tr>\n",
        "      <th>4  </th>\n",
        "      <td> 187.70608</td>\n",
        "      <td> 12.38933</td>\n",
        "      <td>         M_87</td>\n",
        "      <td>  147.0479</td>\n",
        "      <td>  4.860562</td>\n",
        "      <td> 1.81558</td>\n",
        "      <td> -0.6</td>\n",
        "      <td> 0.025236</td>\n",
        "      <td> 0.0</td>\n",
        "      <td>  1567.37</td>\n",
        "      <td>   89.051934</td>\n",
        "      <td> 3C_274.0</td>\n",
        "      <td>  290.820972</td>\n",
        "      <td> 0.336876</td>\n",
        "      <td>-0.804852</td>\n",
        "      <td> 0</td>\n",
        "    </tr>\n",
        "    <tr>\n",
        "      <th>7  </th>\n",
        "      <td> 252.79875</td>\n",
        "      <td>  4.98861</td>\n",
        "      <td>        HER_A</td>\n",
        "      <td>   46.6135</td>\n",
        "      <td>  0.908627</td>\n",
        "      <td> 1.14107</td>\n",
        "      <td> 43.6</td>\n",
        "      <td> 0.002504</td>\n",
        "      <td> 0.0</td>\n",
        "      <td>  1076.32</td>\n",
        "      <td>   75.063179</td>\n",
        "      <td>   3C_348</td>\n",
        "      <td>  115.192908</td>\n",
        "      <td> 0.122123</td>\n",
        "      <td>-1.067769</td>\n",
        "      <td> 0</td>\n",
        "    </tr>\n",
        "    <tr>\n",
        "      <th>24 </th>\n",
        "      <td> 260.14362</td>\n",
        "      <td> -0.97900</td>\n",
        "      <td>       3C_353</td>\n",
        "      <td>   55.5160</td>\n",
        "      <td>  1.179413</td>\n",
        "      <td> 1.82420</td>\n",
        "      <td>-49.2</td>\n",
        "      <td> 0.008856</td>\n",
        "      <td> 0.0</td>\n",
        "      <td>   455.26</td>\n",
        "      <td>   45.600000</td>\n",
        "      <td> 3C_353.0</td>\n",
        "      <td>  101.805100</td>\n",
        "      <td> 0.407927</td>\n",
        "      <td>-0.715674</td>\n",
        "      <td> 0</td>\n",
        "    </tr>\n",
        "    <tr>\n",
        "      <th>773</th>\n",
        "      <td>  69.26904</td>\n",
        "      <td> 29.67061</td>\n",
        "      <td>        PER_B</td>\n",
        "      <td>   49.7285</td>\n",
        "      <td>  1.684100</td>\n",
        "      <td> 0.07699</td>\n",
        "      <td>-80.5</td>\n",
        "      <td> 0.000660</td>\n",
        "      <td> 0.1</td>\n",
        "      <td>   454.97</td>\n",
        "      <td>   46.760000</td>\n",
        "      <td>   3C_123</td>\n",
        "      <td>   94.114319</td>\n",
        "      <td> 0.015926</td>\n",
        "      <td>-0.752902</td>\n",
        "      <td> 0</td>\n",
        "    </tr>\n",
        "    <tr>\n",
        "      <th>772</th>\n",
        "      <td> 139.52408</td>\n",
        "      <td>-12.09481</td>\n",
        "      <td>      HYDRA_A</td>\n",
        "      <td>   40.8499</td>\n",
        "      <td>  1.278800</td>\n",
        "      <td> 0.01643</td>\n",
        "      <td>  8.1</td>\n",
        "      <td> 0.001340</td>\n",
        "      <td> 0.9</td>\n",
        "      <td>   579.59</td>\n",
        "      <td>   58.050000</td>\n",
        "      <td>   3C_218</td>\n",
        "      <td>   87.731363</td>\n",
        "      <td> 0.002487</td>\n",
        "      <td>-0.902133</td>\n",
        "      <td> 0</td>\n",
        "    </tr>\n",
        "    <tr>\n",
        "      <th>774</th>\n",
        "      <td> 187.27671</td>\n",
        "      <td>  2.05142</td>\n",
        "      <td>      3C_273C</td>\n",
        "      <td>   54.9912</td>\n",
        "      <td>  1.900300</td>\n",
        "      <td> 0.57594</td>\n",
        "      <td>-33.3</td>\n",
        "      <td> 0.000560</td>\n",
        "      <td> 0.0</td>\n",
        "      <td>   149.96</td>\n",
        "      <td>   15.000000</td>\n",
        "      <td>  3C_273C</td>\n",
        "      <td>   73.425748</td>\n",
        "      <td> 0.282001</td>\n",
        "      <td>-0.341204</td>\n",
        "      <td> 0</td>\n",
        "    </tr>\n",
        "    <tr>\n",
        "      <th>3  </th>\n",
        "      <td>   6.40142</td>\n",
        "      <td> 64.17856</td>\n",
        "      <td>       3C_10C</td>\n",
        "      <td>   25.9311</td>\n",
        "      <td>  0.317754</td>\n",
        "      <td> 0.20349</td>\n",
        "      <td> 68.7</td>\n",
        "      <td> 0.075088</td>\n",
        "      <td> 1.8</td>\n",
        "      <td>   317.66</td>\n",
        "      <td>   16.236792</td>\n",
        "      <td>  3C__10C</td>\n",
        "      <td>   53.382913</td>\n",
        "      <td> 0.034197</td>\n",
        "      <td>-0.852177</td>\n",
        "      <td> 0</td>\n",
        "    </tr>\n",
        "  </tbody>\n",
        "</table>\n",
        "</div>"
       ],
       "metadata": {},
       "output_type": "pyout",
       "prompt_number": 406,
       "text": [
        "            RA       DEC          NAME      S1400    e_S1400    P1400  POLANG  \\\n",
        "0    350.85658  58.83928  CASSIOPEIA_A  1767.8760  26.410249  5.62293   -75.6   \n",
        "2    299.88362  40.72997      CYGNUS_A  1605.7735  40.671599  2.41593    50.2   \n",
        "1     83.61679  22.03403           M_1   887.8423  13.943689  4.91882    71.1   \n",
        "4    187.70608  12.38933          M_87   147.0479   4.860562  1.81558    -0.6   \n",
        "7    252.79875   4.98861         HER_A    46.6135   0.908627  1.14107    43.6   \n",
        "24   260.14362  -0.97900        3C_353    55.5160   1.179413  1.82420   -49.2   \n",
        "773   69.26904  29.67061         PER_B    49.7285   1.684100  0.07699   -80.5   \n",
        "772  139.52408 -12.09481       HYDRA_A    40.8499   1.278800  0.01643     8.1   \n",
        "774  187.27671   2.05142       3C_273C    54.9912   1.900300  0.57594   -33.3   \n",
        "3      6.40142  64.17856        3C_10C    25.9311   0.317754  0.20349    68.7   \n",
        "\n",
        "      e_P1400  e_POLANG       S74        e_S74    3CNAME         S600  \\\n",
        "0    0.098041       0.0  18842.05  1334.050712  3C_461.0  3496.296206   \n",
        "2    0.106708       0.0  16611.68  1667.590000    3C_405  3148.542843   \n",
        "1    0.111831       0.0   1888.55   188.540000    3C_144  1103.568578   \n",
        "4    0.025236       0.0   1567.37    89.051934  3C_274.0   290.820972   \n",
        "7    0.002504       0.0   1076.32    75.063179    3C_348   115.192908   \n",
        "24   0.008856       0.0    455.26    45.600000  3C_353.0   101.805100   \n",
        "773  0.000660       0.1    454.97    46.760000    3C_123    94.114319   \n",
        "772  0.001340       0.9    579.59    58.050000    3C_218    87.731363   \n",
        "774  0.000560       0.0    149.96    15.000000   3C_273C    73.425748   \n",
        "3    0.075088       1.8    317.66    16.236792   3C__10C    53.382913   \n",
        "\n",
        "         P600      BETA  GAMMA  \n",
        "0    1.043381 -0.804824      0  \n",
        "2    0.457910 -0.794684      0  \n",
        "1    2.874298 -0.256710      0  \n",
        "4    0.336876 -0.804852      0  \n",
        "7    0.122123 -1.067769      0  \n",
        "24   0.407927 -0.715674      0  \n",
        "773  0.015926 -0.752902      0  \n",
        "772  0.002487 -0.902133      0  \n",
        "774  0.282001 -0.341204      0  \n",
        "3    0.034197 -0.852177      0  "
       ]
      }
     ],
     "prompt_number": 406
    },
    {
     "cell_type": "code",
     "collapsed": false,
     "input": [
      "ultimate_table[:10]"
     ],
     "language": "python",
     "metadata": {},
     "outputs": [
      {
       "html": [
        "<div style=\"max-height:1000px;max-width:1500px;overflow:auto;\">\n",
        "<table border=\"1\" class=\"dataframe\">\n",
        "  <thead>\n",
        "    <tr style=\"text-align: right;\">\n",
        "      <th></th>\n",
        "      <th>RA</th>\n",
        "      <th>DEC</th>\n",
        "      <th>NAME</th>\n",
        "      <th>S1400</th>\n",
        "      <th>e_S1400</th>\n",
        "      <th>P1400</th>\n",
        "      <th>POLANG</th>\n",
        "      <th>e_P1400</th>\n",
        "      <th>e_POLANG</th>\n",
        "      <th>S74</th>\n",
        "      <th>e_S74</th>\n",
        "      <th>3CNAME</th>\n",
        "      <th>S600</th>\n",
        "      <th>P600</th>\n",
        "      <th>BETA</th>\n",
        "      <th>GAMMA</th>\n",
        "    </tr>\n",
        "  </thead>\n",
        "  <tbody>\n",
        "    <tr>\n",
        "      <th>0  </th>\n",
        "      <td> 350.85658</td>\n",
        "      <td> 58.83928</td>\n",
        "      <td> CASSIOPEIA_A</td>\n",
        "      <td> 1767.8760</td>\n",
        "      <td> 26.410249</td>\n",
        "      <td> 5.62293</td>\n",
        "      <td>-75.6</td>\n",
        "      <td> 0.098041</td>\n",
        "      <td> 0.0</td>\n",
        "      <td> 18842.05</td>\n",
        "      <td> 1334.050712</td>\n",
        "      <td> 3C_461.0</td>\n",
        "      <td> 2375.563418</td>\n",
        "      <td> 1.043381</td>\n",
        "      <td>-0.775882</td>\n",
        "      <td> 0.073726</td>\n",
        "    </tr>\n",
        "    <tr>\n",
        "      <th>2  </th>\n",
        "      <td> 299.88362</td>\n",
        "      <td> 40.72997</td>\n",
        "      <td>     CYGNUS_A</td>\n",
        "      <td> 1605.7735</td>\n",
        "      <td> 40.671599</td>\n",
        "      <td> 2.41593</td>\n",
        "      <td> 50.2</td>\n",
        "      <td> 0.106708</td>\n",
        "      <td> 0.0</td>\n",
        "      <td> 16611.68</td>\n",
        "      <td> 1667.590000</td>\n",
        "      <td>   3C_405</td>\n",
        "      <td> 3613.567711</td>\n",
        "      <td> 0.457910</td>\n",
        "      <td>-0.888608</td>\n",
        "      <td>-0.085651</td>\n",
        "    </tr>\n",
        "    <tr>\n",
        "      <th>1  </th>\n",
        "      <td>  83.61679</td>\n",
        "      <td> 22.03403</td>\n",
        "      <td>          M_1</td>\n",
        "      <td>  887.8423</td>\n",
        "      <td> 13.943689</td>\n",
        "      <td> 4.91882</td>\n",
        "      <td> 71.1</td>\n",
        "      <td> 0.111831</td>\n",
        "      <td> 0.0</td>\n",
        "      <td>  1888.55</td>\n",
        "      <td>  188.540000</td>\n",
        "      <td>   3C_144</td>\n",
        "      <td> 1142.621198</td>\n",
        "      <td> 2.874298</td>\n",
        "      <td>-0.242263</td>\n",
        "      <td>-0.001170</td>\n",
        "    </tr>\n",
        "    <tr>\n",
        "      <th>4  </th>\n",
        "      <td> 187.70608</td>\n",
        "      <td> 12.38933</td>\n",
        "      <td>         M_87</td>\n",
        "      <td>  147.0479</td>\n",
        "      <td>  4.860562</td>\n",
        "      <td> 1.81558</td>\n",
        "      <td> -0.6</td>\n",
        "      <td> 0.025236</td>\n",
        "      <td> 0.0</td>\n",
        "      <td>  1567.37</td>\n",
        "      <td>   89.051934</td>\n",
        "      <td> 3C_274.0</td>\n",
        "      <td>  436.338553</td>\n",
        "      <td> 0.336876</td>\n",
        "      <td>-0.811899</td>\n",
        "      <td>-0.035656</td>\n",
        "    </tr>\n",
        "    <tr>\n",
        "      <th>7  </th>\n",
        "      <td> 252.79875</td>\n",
        "      <td>  4.98861</td>\n",
        "      <td>        HER_A</td>\n",
        "      <td>   46.6135</td>\n",
        "      <td>  0.908627</td>\n",
        "      <td> 1.14107</td>\n",
        "      <td> 43.6</td>\n",
        "      <td> 0.002504</td>\n",
        "      <td> 0.0</td>\n",
        "      <td>  1076.32</td>\n",
        "      <td>   75.063179</td>\n",
        "      <td>   3C_348</td>\n",
        "      <td>  120.352428</td>\n",
        "      <td> 0.122123</td>\n",
        "      <td>-1.052856</td>\n",
        "      <td>-0.045649</td>\n",
        "    </tr>\n",
        "    <tr>\n",
        "      <th>24 </th>\n",
        "      <td> 260.14362</td>\n",
        "      <td> -0.97900</td>\n",
        "      <td>       3C_353</td>\n",
        "      <td>   55.5160</td>\n",
        "      <td>  1.179413</td>\n",
        "      <td> 1.82420</td>\n",
        "      <td>-49.2</td>\n",
        "      <td> 0.008856</td>\n",
        "      <td> 0.0</td>\n",
        "      <td>   455.26</td>\n",
        "      <td>   45.600000</td>\n",
        "      <td> 3C_353.0</td>\n",
        "      <td>  106.512561</td>\n",
        "      <td> 0.407927</td>\n",
        "      <td>-0.720365</td>\n",
        "      <td>-0.025560</td>\n",
        "    </tr>\n",
        "    <tr>\n",
        "      <th>773</th>\n",
        "      <td>  69.26904</td>\n",
        "      <td> 29.67061</td>\n",
        "      <td>        PER_B</td>\n",
        "      <td>   49.7285</td>\n",
        "      <td>  1.684100</td>\n",
        "      <td> 0.07699</td>\n",
        "      <td>-80.5</td>\n",
        "      <td> 0.000660</td>\n",
        "      <td> 0.1</td>\n",
        "      <td>   454.97</td>\n",
        "      <td>   46.760000</td>\n",
        "      <td>   3C_123</td>\n",
        "      <td>   87.455842</td>\n",
        "      <td> 0.015926</td>\n",
        "      <td>-0.721306</td>\n",
        "      <td> 0.019997</td>\n",
        "    </tr>\n",
        "    <tr>\n",
        "      <th>772</th>\n",
        "      <td> 139.52408</td>\n",
        "      <td>-12.09481</td>\n",
        "      <td>      HYDRA_A</td>\n",
        "      <td>   40.8499</td>\n",
        "      <td>  1.278800</td>\n",
        "      <td> 0.01643</td>\n",
        "      <td>  8.1</td>\n",
        "      <td> 0.001340</td>\n",
        "      <td> 0.9</td>\n",
        "      <td>   579.59</td>\n",
        "      <td>   58.050000</td>\n",
        "      <td>   3C_218</td>\n",
        "      <td>   96.976365</td>\n",
        "      <td> 0.002487</td>\n",
        "      <td>-0.839342</td>\n",
        "      <td>-0.057817</td>\n",
        "    </tr>\n",
        "    <tr>\n",
        "      <th>774</th>\n",
        "      <td> 187.27671</td>\n",
        "      <td>  2.05142</td>\n",
        "      <td>      3C_273C</td>\n",
        "      <td>   54.9912</td>\n",
        "      <td>  1.900300</td>\n",
        "      <td> 0.57594</td>\n",
        "      <td>-33.3</td>\n",
        "      <td> 0.000560</td>\n",
        "      <td> 0.0</td>\n",
        "      <td>   149.96</td>\n",
        "      <td>   15.000000</td>\n",
        "      <td>  3C_273C</td>\n",
        "      <td>   54.976965</td>\n",
        "      <td> 0.282001</td>\n",
        "      <td>-0.288965</td>\n",
        "      <td> 0.099464</td>\n",
        "    </tr>\n",
        "    <tr>\n",
        "      <th>3  </th>\n",
        "      <td>   6.40142</td>\n",
        "      <td> 64.17856</td>\n",
        "      <td>       3C_10C</td>\n",
        "      <td>   25.9311</td>\n",
        "      <td>  0.317754</td>\n",
        "      <td> 0.20349</td>\n",
        "      <td> 68.7</td>\n",
        "      <td> 0.075088</td>\n",
        "      <td> 1.8</td>\n",
        "      <td>   317.66</td>\n",
        "      <td>   16.236792</td>\n",
        "      <td>  3C__10C</td>\n",
        "      <td>   71.500775</td>\n",
        "      <td> 0.034197</td>\n",
        "      <td>-0.589441</td>\n",
        "      <td> 0.005817</td>\n",
        "    </tr>\n",
        "  </tbody>\n",
        "</table>\n",
        "</div>"
       ],
       "metadata": {},
       "output_type": "pyout",
       "prompt_number": 407,
       "text": [
        "            RA       DEC          NAME      S1400    e_S1400    P1400  POLANG  \\\n",
        "0    350.85658  58.83928  CASSIOPEIA_A  1767.8760  26.410249  5.62293   -75.6   \n",
        "2    299.88362  40.72997      CYGNUS_A  1605.7735  40.671599  2.41593    50.2   \n",
        "1     83.61679  22.03403           M_1   887.8423  13.943689  4.91882    71.1   \n",
        "4    187.70608  12.38933          M_87   147.0479   4.860562  1.81558    -0.6   \n",
        "7    252.79875   4.98861         HER_A    46.6135   0.908627  1.14107    43.6   \n",
        "24   260.14362  -0.97900        3C_353    55.5160   1.179413  1.82420   -49.2   \n",
        "773   69.26904  29.67061         PER_B    49.7285   1.684100  0.07699   -80.5   \n",
        "772  139.52408 -12.09481       HYDRA_A    40.8499   1.278800  0.01643     8.1   \n",
        "774  187.27671   2.05142       3C_273C    54.9912   1.900300  0.57594   -33.3   \n",
        "3      6.40142  64.17856        3C_10C    25.9311   0.317754  0.20349    68.7   \n",
        "\n",
        "      e_P1400  e_POLANG       S74        e_S74    3CNAME         S600  \\\n",
        "0    0.098041       0.0  18842.05  1334.050712  3C_461.0  2375.563418   \n",
        "2    0.106708       0.0  16611.68  1667.590000    3C_405  3613.567711   \n",
        "1    0.111831       0.0   1888.55   188.540000    3C_144  1142.621198   \n",
        "4    0.025236       0.0   1567.37    89.051934  3C_274.0   436.338553   \n",
        "7    0.002504       0.0   1076.32    75.063179    3C_348   120.352428   \n",
        "24   0.008856       0.0    455.26    45.600000  3C_353.0   106.512561   \n",
        "773  0.000660       0.1    454.97    46.760000    3C_123    87.455842   \n",
        "772  0.001340       0.9    579.59    58.050000    3C_218    96.976365   \n",
        "774  0.000560       0.0    149.96    15.000000   3C_273C    54.976965   \n",
        "3    0.075088       1.8    317.66    16.236792   3C__10C    71.500775   \n",
        "\n",
        "         P600      BETA     GAMMA  \n",
        "0    1.043381 -0.775882  0.073726  \n",
        "2    0.457910 -0.888608 -0.085651  \n",
        "1    2.874298 -0.242263 -0.001170  \n",
        "4    0.336876 -0.811899 -0.035656  \n",
        "7    0.122123 -1.052856 -0.045649  \n",
        "24   0.407927 -0.720365 -0.025560  \n",
        "773  0.015926 -0.721306  0.019997  \n",
        "772  0.002487 -0.839342 -0.057817  \n",
        "774  0.282001 -0.288965  0.099464  \n",
        "3    0.034197 -0.589441  0.005817  "
       ]
      }
     ],
     "prompt_number": 407
    },
    {
     "cell_type": "code",
     "collapsed": false,
     "input": [],
     "language": "python",
     "metadata": {},
     "outputs": [],
     "prompt_number": 407
    },
    {
     "cell_type": "markdown",
     "metadata": {},
     "source": [
      "# Write table to disk"
     ]
    },
    {
     "cell_type": "code",
     "collapsed": false,
     "input": [
      "ultimate_table = ultimate_table.sort([\"S600\"], ascending=False).copy()\n",
      "\n",
      "with open(\"combinedps_new.dat\", \"w\") as f:\n",
      "    f.write(ultimate_table.to_string(index=False))"
     ],
     "language": "python",
     "metadata": {},
     "outputs": [],
     "prompt_number": 408
    },
    {
     "cell_type": "code",
     "collapsed": false,
     "input": [],
     "language": "python",
     "metadata": {},
     "outputs": [],
     "prompt_number": 408
    }
   ],
   "metadata": {}
  }
 ]
}